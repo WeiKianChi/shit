{
 "cells": [
  {
   "cell_type": "markdown",
   "metadata": {},
   "source": []
  },
  {
   "cell_type": "code",
   "execution_count": null,
   "metadata": {},
   "outputs": [],
   "source": [
    "import igraph as ig"
   ]
  },
  {
   "cell_type": "markdown",
   "metadata": {},
   "source": [
    "## 每个点的文档\n",
    "\n",
    "因为我的图里存了每个节点每条边的名称，所以可以直接从igraph里获取"
   ]
  },
  {
   "cell_type": "code",
   "execution_count": null,
   "metadata": {},
   "outputs": [],
   "source": [
    "def make_nne_docs(self):\n",
    "    nne_docs = []\n",
    "    self.g: ig.Graph\n",
    "    for vid in range(self.g.vcount()):\n",
    "        out_edges = self.g.vs[vid].out_edges()\n",
    "        nne_fact_list = []\n",
    "        this_name = self.g.vs[vid][\"name\"]\n",
    "        for edge in out_edges:\n",
    "            relation_name = edge['name']\n",
    "            if relation_name in ['_synonym']:\n",
    "                continue\n",
    "            other_name = edge.target_vertex[\"name\"]\n",
    "            if edge['dir'] == 'f':\n",
    "                nne_fact_list.append(f\"{this_name} {relation_name} {other_name}.\")\n",
    "            elif edge['dir'] == 'b':\n",
    "                nne_fact_list.append(f\"{other_name} {relation_name} {this_name}.\")\n",
    "        nne_fact_list.sort()\n",
    "        nne_fact = f\"{this_name}\\n\" + \" \".join(nne_fact_list)\n",
    "        nne_docs.append(nne_fact)\n",
    "        # nne_docs.append([self.g.vs[n][\"name\"] for n in neighbors if self.g.vs[n][\"type\"] == \"passage\"])\n",
    "    return nne_docs"
   ]
  },
  {
   "cell_type": "markdown",
   "metadata": {},
   "source": [
    "## 做retrieve Load进来"
   ]
  },
  {
   "cell_type": "code",
   "execution_count": null,
   "metadata": {},
   "outputs": [],
   "source": [
    "with open(self.config.get_path(\"nne_docs_path\"), \"r\") as f:\n",
    "        self.nne_list = json.load(f)\n",
    "\n",
    "    for nne_doc, entity_name in zip(self.nne_list, self.entity_list):\n",
    "        assert nne_doc.startswith(entity_name), f\"NNE_DOC {nne_doc[:20]} does not match entity {entity_name}\""
   ]
  },
  {
   "cell_type": "markdown",
   "metadata": {},
   "source": [
    "## 计算相似度"
   ]
  },
  {
   "cell_type": "code",
   "execution_count": null,
   "metadata": {},
   "outputs": [],
   "source": [
    "def get_nne_scores(self, query: Union[str, List[str]], \n",
    "                   instruction=\"Given a multihop query, retrieve the most helpful entity summary.\", \n",
    "                   top_k=5) -> torch.Tensor:\n",
    "    \n",
    "    embedding = self.embeddings_dict[\"nne\"]\n",
    "    nne_scores = compute_similarity(\n",
    "        model=self.model,\n",
    "        query=query,\n",
    "        indexed_embedding=embedding,\n",
    "        instruction=instruction\n",
    "    )\n",
    "    topk_values, topk_indices = torch.topk(nne_scores, top_k)\n",
    "    nne_scores = torch.zeros_like(nne_scores)\n",
    "    nne_scores[topk_indices] = topk_values\n",
    "    return nne_scores\n"
   ]
  },
  {
   "cell_type": "markdown",
   "metadata": {},
   "source": [
    "后面就是和ner score一样地用"
   ]
  },
  {
   "cell_type": "code",
   "execution_count": null,
   "metadata": {},
   "outputs": [],
   "source": []
  }
 ],
 "metadata": {
  "language_info": {
   "name": "python"
  }
 },
 "nbformat": 4,
 "nbformat_minor": 2
}
